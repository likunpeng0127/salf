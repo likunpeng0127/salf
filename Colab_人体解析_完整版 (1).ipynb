{
  "cells": [
    {
      "cell_type": "markdown",
      "metadata": {
        "id": "q1vTt6rlR8jH"
      },
      "source": [
        "# 🚀 Self-Correction Human Parsing - Colab 演示\n",
        "\n",
        "**人体解析（Human Parsing）** - 识别和分割人体的不同部位\n",
        "\n",
        "⚠️ **重要提示**:\n",
        "1. 点击 **Runtime → Change runtime type**\n",
        "2. 选择 **GPU** 作为硬件加速器\n",
        "3. 保存设置后开始运行\n",
        "\n",
        "---\n",
        "\n",
        "## 支持的数据集\n",
        "\n",
        "| 数据集 | 标签数 | mIoU | 特点 |\n",
        "|--------|--------|------|------|\n",
        "| **LIP** | 20个 | 59.36% | 最全面，适合复杂场景 |\n",
        "| **ATR** | 18个 | 82.29% | 适合时尚AI |\n",
        "| **Pascal** | 7个 | 71.46% | 简化版，身体部位 |\n"
      ]
    },
    {
      "cell_type": "code",
      "execution_count": 1,
      "metadata": {
        "colab": {
          "base_uri": "https://localhost:8080/"
        },
        "id": "ZFAZV2xwR8jI",
        "outputId": "c590ff97-4eac-4075-924b-b8c3a69396f8"
      },
      "outputs": [
        {
          "output_type": "stream",
          "name": "stdout",
          "text": [
            "📦 安装 PyTorch 1.7.1 (兼容版本)...\n",
            "⏳ 预计需要 2-3 分钟...\n",
            "\n",
            "\u001b[31mERROR: Could not find a version that satisfies the requirement torch==1.7.1+cu101 (from versions: 2.2.0, 2.2.0+cpu, 2.2.0+cpu.cxx11.abi, 2.2.0+cu118, 2.2.0+cu121, 2.2.0+rocm5.6, 2.2.0+rocm5.7, 2.2.1, 2.2.1+cpu, 2.2.1+cpu.cxx11.abi, 2.2.1+cu118, 2.2.1+cu121, 2.2.1+rocm5.6, 2.2.1+rocm5.7, 2.2.2, 2.2.2+cpu, 2.2.2+cpu.cxx11.abi, 2.2.2+cu118, 2.2.2+cu121, 2.2.2+rocm5.6, 2.2.2+rocm5.7, 2.3.0, 2.3.0+cpu, 2.3.0+cpu.cxx11.abi, 2.3.0+cu118, 2.3.0+cu121, 2.3.0+rocm5.7, 2.3.0+rocm6.0, 2.3.1, 2.3.1+cpu, 2.3.1+cpu.cxx11.abi, 2.3.1+cu118, 2.3.1+cu121, 2.3.1+rocm5.7, 2.3.1+rocm6.0, 2.4.0, 2.4.1, 2.5.0, 2.5.1, 2.6.0, 2.7.0, 2.7.1, 2.8.0, 2.9.0)\u001b[0m\u001b[31m\n",
            "\u001b[0m\u001b[31mERROR: No matching distribution found for torch==1.7.1+cu101\u001b[0m\u001b[31m\n",
            "\u001b[2K   \u001b[90m━━━━━━━━━━━━━━━━━━━━━━━━━━━━━━━━━━━━━━━━\u001b[0m \u001b[32m180.7/180.7 kB\u001b[0m \u001b[31m8.8 MB/s\u001b[0m eta \u001b[36m0:00:00\u001b[0m\n",
            "\u001b[?25h✅ PyTorch 安装完成！\n",
            "🔥 PyTorch 版本: 2.8.0+cu126\n",
            "🎮 CUDA 可用: True\n",
            "🚀 GPU: Tesla T4\n"
          ]
        }
      ],
      "source": [
        "# ========== 步骤 1: 安装兼容版本的 PyTorch ==========\n",
        "print('📦 安装 PyTorch 1.7.1 (兼容版本)...')\n",
        "print('⏳ 预计需要 2-3 分钟...\\n')\n",
        "\n",
        "!pip install -q torch==1.7.1+cu101 torchvision==0.8.2+cu101 -f https://download.pytorch.org/whl/torch_stable.html\n",
        "!pip install -q ninja\n",
        "\n",
        "print('✅ PyTorch 安装完成！')\n",
        "\n",
        "# 验证安装\n",
        "import torch\n",
        "print(f'🔥 PyTorch 版本: {torch.__version__}')\n",
        "print(f'🎮 CUDA 可用: {torch.cuda.is_available()}')\n",
        "if torch.cuda.is_available():\n",
        "    print(f'🚀 GPU: {torch.cuda.get_device_name(0)}')\n"
      ]
    },
    {
      "cell_type": "code",
      "execution_count": 2,
      "metadata": {
        "colab": {
          "base_uri": "https://localhost:8080/"
        },
        "id": "8kyQSJm6R8jI",
        "outputId": "16344dcd-0a49-4082-b1c8-1eb1f7c17002"
      },
      "outputs": [
        {
          "output_type": "stream",
          "name": "stdout",
          "text": [
            "📥 克隆项目代码...\n",
            "Cloning into 'salf'...\n",
            "fatal: could not read Username for 'https://github.com': No such device or address\n",
            "[Errno 2] No such file or directory: 'salf'\n",
            "/content\n",
            "✅ 项目准备完成！\n"
          ]
        }
      ],
      "source": [
        "# ========== 步骤 2: 克隆项目 ==========\n",
        "print('📥 克隆项目代码...')\n",
        "\n",
        "!git clone https://github.com/likunpeng0127/salf.git\n",
        "%cd salf\n",
        "\n",
        "# 创建必要的文件夹\n",
        "!mkdir -p checkpoints inputs outputs\n",
        "\n",
        "print('✅ 项目准备完成！')\n"
      ]
    },
    {
      "cell_type": "code",
      "execution_count": 3,
      "metadata": {
        "colab": {
          "base_uri": "https://localhost:8080/"
        },
        "id": "qQjiSZjlR8jI",
        "outputId": "e5fdde9c-2d18-433c-9a1b-ba791a784c63"
      },
      "outputs": [
        {
          "output_type": "stream",
          "name": "stdout",
          "text": [
            "📊 选择的数据集: LIP (Look Into Person)\n",
            "   标签数量: 20\n",
            "   准确率(mIoU): 59.36%\n",
            "   说明: 最大数据集，包含帽子、头发、手套、上衣、裤子等20个部位\n"
          ]
        }
      ],
      "source": [
        "# ========== 步骤 3: 选择数据集 ==========\n",
        "# 请修改下面的 dataset 变量选择数据集\n",
        "# 可选值: 'lip', 'atr', 'pascal'\n",
        "\n",
        "dataset = 'lip'  # 👈 修改这里选择数据集\n",
        "\n",
        "# 数据集信息\n",
        "dataset_info = {\n",
        "    'lip': {\n",
        "        'name': 'LIP (Look Into Person)',\n",
        "        'labels': 20,\n",
        "        'miou': '59.36%',\n",
        "        'desc': '最大数据集，包含帽子、头发、手套、上衣、裤子等20个部位'\n",
        "    },\n",
        "    'atr': {\n",
        "        'name': 'ATR (A person re-identification dataset)',\n",
        "        'labels': 18,\n",
        "        'miou': '82.29%',\n",
        "        'desc': '时尚AI专用，包含包包、腰带等18个部位'\n",
        "    },\n",
        "    'pascal': {\n",
        "        'name': 'Pascal-Person-Part',\n",
        "        'labels': 7,\n",
        "        'miou': '71.46%',\n",
        "        'desc': '简化版，只包含头、躯干、手臂、腿等7个部位'\n",
        "    }\n",
        "}\n",
        "\n",
        "info = dataset_info[dataset]\n",
        "print(f'📊 选择的数据集: {info[\"name\"]}')\n",
        "print(f'   标签数量: {info[\"labels\"]}')\n",
        "print(f'   准确率(mIoU): {info[\"miou\"]}')\n",
        "print(f'   说明: {info[\"desc\"]}')\n"
      ]
    },
    {
      "cell_type": "code",
      "execution_count": 4,
      "metadata": {
        "colab": {
          "base_uri": "https://localhost:8080/"
        },
        "id": "iUCunUJ0R8jI",
        "outputId": "c545c172-91bc-4160-9e7d-dd37f32a4509"
      },
      "outputs": [
        {
          "output_type": "stream",
          "name": "stdout",
          "text": [
            "📥 下载 LIP 预训练模型...\n",
            "⏳ 模型大小约 260MB，需要 1-2 分钟...\n",
            "\n"
          ]
        },
        {
          "output_type": "stream",
          "name": "stderr",
          "text": [
            "Downloading...\n",
            "From (original): https://drive.google.com/uc?id=1k4dllHpu0bdx38J7H28rVVLpU-kOHmnH\n",
            "From (redirected): https://drive.google.com/uc?id=1k4dllHpu0bdx38J7H28rVVLpU-kOHmnH&confirm=t&uuid=4e0e5655-1336-44d7-8df5-a2b280fb5ad3\n",
            "To: /content/checkpoints/final.pth\n",
            "100%|██████████| 267M/267M [00:01<00:00, 148MB/s]"
          ]
        },
        {
          "output_type": "stream",
          "name": "stdout",
          "text": [
            "\n",
            "✅ 模型下载完成！保存在: checkpoints/final.pth\n"
          ]
        },
        {
          "output_type": "stream",
          "name": "stderr",
          "text": [
            "\n"
          ]
        }
      ],
      "source": [
        "# ========== 步骤 4: 下载预训练模型 ==========\n",
        "print(f'📥 下载 {dataset.upper()} 预训练模型...')\n",
        "print('⏳ 模型大小约 260MB，需要 1-2 分钟...\\n')\n",
        "\n",
        "!pip install -q gdown\n",
        "\n",
        "import gdown\n",
        "\n",
        "# 模型下载链接\n",
        "model_urls = {\n",
        "    'lip': 'https://drive.google.com/uc?id=1k4dllHpu0bdx38J7H28rVVLpU-kOHmnH',\n",
        "    'atr': 'https://drive.google.com/uc?id=1ruJg4lqR_jgQPj-9K0PP-L2vJERYOxLP',\n",
        "    'pascal': 'https://drive.google.com/uc?id=1E5YwNKW2VOEayK9mWCS3Kpsxf-3z04ZE'\n",
        "}\n",
        "\n",
        "url = model_urls[dataset]\n",
        "output_path = 'checkpoints/final.pth'\n",
        "\n",
        "gdown.download(url, output_path, quiet=False)\n",
        "\n",
        "print(f'\\n✅ 模型下载完成！保存在: {output_path}')\n"
      ]
    },
    {
      "cell_type": "code",
      "execution_count": 5,
      "metadata": {
        "colab": {
          "base_uri": "https://localhost:8080/",
          "height": 184
        },
        "id": "zUSnRUgJR8jI",
        "outputId": "e6f2bc3a-4ea6-450e-ad66-f1eb34fc5d8e"
      },
      "outputs": [
        {
          "output_type": "stream",
          "name": "stdout",
          "text": [
            "📤 请选择要处理的图片（可以多选）...\n",
            "\n"
          ]
        },
        {
          "output_type": "display_data",
          "data": {
            "text/plain": [
              "<IPython.core.display.HTML object>"
            ],
            "text/html": [
              "\n",
              "     <input type=\"file\" id=\"files-be937007-1f5d-40c5-9aa1-f665305e6155\" name=\"files[]\" multiple disabled\n",
              "        style=\"border:none\" />\n",
              "     <output id=\"result-be937007-1f5d-40c5-9aa1-f665305e6155\">\n",
              "      Upload widget is only available when the cell has been executed in the\n",
              "      current browser session. Please rerun this cell to enable.\n",
              "      </output>\n",
              "      <script>// Copyright 2017 Google LLC\n",
              "//\n",
              "// Licensed under the Apache License, Version 2.0 (the \"License\");\n",
              "// you may not use this file except in compliance with the License.\n",
              "// You may obtain a copy of the License at\n",
              "//\n",
              "//      http://www.apache.org/licenses/LICENSE-2.0\n",
              "//\n",
              "// Unless required by applicable law or agreed to in writing, software\n",
              "// distributed under the License is distributed on an \"AS IS\" BASIS,\n",
              "// WITHOUT WARRANTIES OR CONDITIONS OF ANY KIND, either express or implied.\n",
              "// See the License for the specific language governing permissions and\n",
              "// limitations under the License.\n",
              "\n",
              "/**\n",
              " * @fileoverview Helpers for google.colab Python module.\n",
              " */\n",
              "(function(scope) {\n",
              "function span(text, styleAttributes = {}) {\n",
              "  const element = document.createElement('span');\n",
              "  element.textContent = text;\n",
              "  for (const key of Object.keys(styleAttributes)) {\n",
              "    element.style[key] = styleAttributes[key];\n",
              "  }\n",
              "  return element;\n",
              "}\n",
              "\n",
              "// Max number of bytes which will be uploaded at a time.\n",
              "const MAX_PAYLOAD_SIZE = 100 * 1024;\n",
              "\n",
              "function _uploadFiles(inputId, outputId) {\n",
              "  const steps = uploadFilesStep(inputId, outputId);\n",
              "  const outputElement = document.getElementById(outputId);\n",
              "  // Cache steps on the outputElement to make it available for the next call\n",
              "  // to uploadFilesContinue from Python.\n",
              "  outputElement.steps = steps;\n",
              "\n",
              "  return _uploadFilesContinue(outputId);\n",
              "}\n",
              "\n",
              "// This is roughly an async generator (not supported in the browser yet),\n",
              "// where there are multiple asynchronous steps and the Python side is going\n",
              "// to poll for completion of each step.\n",
              "// This uses a Promise to block the python side on completion of each step,\n",
              "// then passes the result of the previous step as the input to the next step.\n",
              "function _uploadFilesContinue(outputId) {\n",
              "  const outputElement = document.getElementById(outputId);\n",
              "  const steps = outputElement.steps;\n",
              "\n",
              "  const next = steps.next(outputElement.lastPromiseValue);\n",
              "  return Promise.resolve(next.value.promise).then((value) => {\n",
              "    // Cache the last promise value to make it available to the next\n",
              "    // step of the generator.\n",
              "    outputElement.lastPromiseValue = value;\n",
              "    return next.value.response;\n",
              "  });\n",
              "}\n",
              "\n",
              "/**\n",
              " * Generator function which is called between each async step of the upload\n",
              " * process.\n",
              " * @param {string} inputId Element ID of the input file picker element.\n",
              " * @param {string} outputId Element ID of the output display.\n",
              " * @return {!Iterable<!Object>} Iterable of next steps.\n",
              " */\n",
              "function* uploadFilesStep(inputId, outputId) {\n",
              "  const inputElement = document.getElementById(inputId);\n",
              "  inputElement.disabled = false;\n",
              "\n",
              "  const outputElement = document.getElementById(outputId);\n",
              "  outputElement.innerHTML = '';\n",
              "\n",
              "  const pickedPromise = new Promise((resolve) => {\n",
              "    inputElement.addEventListener('change', (e) => {\n",
              "      resolve(e.target.files);\n",
              "    });\n",
              "  });\n",
              "\n",
              "  const cancel = document.createElement('button');\n",
              "  inputElement.parentElement.appendChild(cancel);\n",
              "  cancel.textContent = 'Cancel upload';\n",
              "  const cancelPromise = new Promise((resolve) => {\n",
              "    cancel.onclick = () => {\n",
              "      resolve(null);\n",
              "    };\n",
              "  });\n",
              "\n",
              "  // Wait for the user to pick the files.\n",
              "  const files = yield {\n",
              "    promise: Promise.race([pickedPromise, cancelPromise]),\n",
              "    response: {\n",
              "      action: 'starting',\n",
              "    }\n",
              "  };\n",
              "\n",
              "  cancel.remove();\n",
              "\n",
              "  // Disable the input element since further picks are not allowed.\n",
              "  inputElement.disabled = true;\n",
              "\n",
              "  if (!files) {\n",
              "    return {\n",
              "      response: {\n",
              "        action: 'complete',\n",
              "      }\n",
              "    };\n",
              "  }\n",
              "\n",
              "  for (const file of files) {\n",
              "    const li = document.createElement('li');\n",
              "    li.append(span(file.name, {fontWeight: 'bold'}));\n",
              "    li.append(span(\n",
              "        `(${file.type || 'n/a'}) - ${file.size} bytes, ` +\n",
              "        `last modified: ${\n",
              "            file.lastModifiedDate ? file.lastModifiedDate.toLocaleDateString() :\n",
              "                                    'n/a'} - `));\n",
              "    const percent = span('0% done');\n",
              "    li.appendChild(percent);\n",
              "\n",
              "    outputElement.appendChild(li);\n",
              "\n",
              "    const fileDataPromise = new Promise((resolve) => {\n",
              "      const reader = new FileReader();\n",
              "      reader.onload = (e) => {\n",
              "        resolve(e.target.result);\n",
              "      };\n",
              "      reader.readAsArrayBuffer(file);\n",
              "    });\n",
              "    // Wait for the data to be ready.\n",
              "    let fileData = yield {\n",
              "      promise: fileDataPromise,\n",
              "      response: {\n",
              "        action: 'continue',\n",
              "      }\n",
              "    };\n",
              "\n",
              "    // Use a chunked sending to avoid message size limits. See b/62115660.\n",
              "    let position = 0;\n",
              "    do {\n",
              "      const length = Math.min(fileData.byteLength - position, MAX_PAYLOAD_SIZE);\n",
              "      const chunk = new Uint8Array(fileData, position, length);\n",
              "      position += length;\n",
              "\n",
              "      const base64 = btoa(String.fromCharCode.apply(null, chunk));\n",
              "      yield {\n",
              "        response: {\n",
              "          action: 'append',\n",
              "          file: file.name,\n",
              "          data: base64,\n",
              "        },\n",
              "      };\n",
              "\n",
              "      let percentDone = fileData.byteLength === 0 ?\n",
              "          100 :\n",
              "          Math.round((position / fileData.byteLength) * 100);\n",
              "      percent.textContent = `${percentDone}% done`;\n",
              "\n",
              "    } while (position < fileData.byteLength);\n",
              "  }\n",
              "\n",
              "  // All done.\n",
              "  yield {\n",
              "    response: {\n",
              "      action: 'complete',\n",
              "    }\n",
              "  };\n",
              "}\n",
              "\n",
              "scope.google = scope.google || {};\n",
              "scope.google.colab = scope.google.colab || {};\n",
              "scope.google.colab._files = {\n",
              "  _uploadFiles,\n",
              "  _uploadFilesContinue,\n",
              "};\n",
              "})(self);\n",
              "</script> "
            ]
          },
          "metadata": {}
        },
        {
          "output_type": "stream",
          "name": "stdout",
          "text": [
            "Saving c22b87643cfc465e8e4fcf233ea40bf1.png to c22b87643cfc465e8e4fcf233ea40bf1.png\n",
            "✅ 已上传: c22b87643cfc465e8e4fcf233ea40bf1.png\n",
            "\n",
            "📊 共上传 1 张图片\n",
            "图片列表: ['c22b87643cfc465e8e4fcf233ea40bf1.png']\n"
          ]
        }
      ],
      "source": [
        "# ========== 步骤 5: 上传图片 ==========\n",
        "print('📤 请选择要处理的图片（可以多选）...\\n')\n",
        "\n",
        "from google.colab import files\n",
        "import shutil\n",
        "import os\n",
        "\n",
        "# 上传文件\n",
        "uploaded = files.upload()\n",
        "\n",
        "# 移动到 inputs 文件夹\n",
        "for filename in uploaded.keys():\n",
        "    src = filename\n",
        "    dst = f'inputs/{filename}'\n",
        "    shutil.move(src, dst)\n",
        "    print(f'✅ 已上传: {filename}')\n",
        "\n",
        "# 显示上传的图片\n",
        "print(f'\\n📊 共上传 {len(uploaded)} 张图片')\n",
        "print('图片列表:', list(uploaded.keys()))\n"
      ]
    },
    {
      "cell_type": "code",
      "execution_count": 6,
      "metadata": {
        "colab": {
          "base_uri": "https://localhost:8080/"
        },
        "id": "BkWF3s96R8jI",
        "outputId": "6c1bf0a4-5b25-44a1-e14d-aaa6d6a52308"
      },
      "outputs": [
        {
          "output_type": "stream",
          "name": "stdout",
          "text": [
            "🚀 开始处理图片...\n",
            "📊 使用数据集: LIP\n",
            "⏳ 每张图片约需 1-3 秒...\n",
            "\n",
            "📂 inputs 文件夹中有 1 张图片\n",
            "python3: can't open file '/content/simple_extractor.py': [Errno 2] No such file or directory\n",
            "\n",
            "📂 outputs 文件夹中生成了 0 个文件\n",
            "⚠️  警告: outputs 文件夹为空，请检查上面是否有错误信息\n",
            "⏱️  总耗时: 0.1 秒\n"
          ]
        }
      ],
      "source": [
        "# ========== 步骤 6: 运行人体解析 ==========\n",
        "print('🚀 开始处理图片...')\n",
        "print(f'📊 使用数据集: {dataset.upper()}')\n",
        "print('⏳ 每张图片约需 1-3 秒...\\n')\n",
        "\n",
        "import time\n",
        "import os\n",
        "\n",
        "# 检查输入文件\n",
        "input_count = len([f for f in os.listdir('inputs') if f.endswith(('.png', '.jpg', '.jpeg'))])\n",
        "print(f'📂 inputs 文件夹中有 {input_count} 张图片')\n",
        "\n",
        "start_time = time.time()\n",
        "\n",
        "# 运行推理\n",
        "!python simple_extractor.py --dataset {dataset} --model-restore checkpoints/final.pth --input-dir inputs --output-dir outputs\n",
        "\n",
        "elapsed = time.time() - start_time\n",
        "\n",
        "# 检查输出结果\n",
        "output_count = len([f for f in os.listdir('outputs')])\n",
        "print(f'\\n📂 outputs 文件夹中生成了 {output_count} 个文件')\n",
        "\n",
        "if output_count > 0:\n",
        "    print('📋 输出文件列表:')\n",
        "    for f in os.listdir('outputs'):\n",
        "        print(f'   - {f}')\n",
        "    print(f'\\n✅ 处理完成！')\n",
        "else:\n",
        "    print('⚠️  警告: outputs 文件夹为空，请检查上面是否有错误信息')\n",
        "\n",
        "print(f'⏱️  总耗时: {elapsed:.1f} 秒')\n"
      ]
    },
    {
      "cell_type": "code",
      "execution_count": 7,
      "metadata": {
        "colab": {
          "base_uri": "https://localhost:8080/"
        },
        "id": "2Pk2pUYjR8jJ",
        "outputId": "ac733382-22df-49d4-c8be-a8b9f9a8398d"
      },
      "outputs": [
        {
          "output_type": "stream",
          "name": "stdout",
          "text": [
            "🖼️  显示处理结果...\n",
            "\n",
            "📊 找到 1 张原图\n",
            "📊 outputs 文件夹中有 0 个文件\n",
            "📊 其中 0 个是 PNG 图片\n",
            "\n",
            "❌ 错误: outputs 文件夹中没有找到结果图片！\n",
            "可能的原因:\n",
            "  1. 步骤6的推理过程出错了\n",
            "  2. 请检查步骤6是否有红色错误信息\n",
            "  3. 确认已经正确安装了 PyTorch 1.7.1\n",
            "\n",
            "💡 建议: 重新运行步骤6，仔细查看输出信息\n"
          ]
        }
      ],
      "source": [
        "# ========== 步骤 7: 显示结果 ==========\n",
        "print('🖼️  显示处理结果...\\n')\n",
        "\n",
        "from PIL import Image\n",
        "import matplotlib.pyplot as plt\n",
        "import os\n",
        "\n",
        "# 获取所有文件\n",
        "input_files = sorted([f for f in os.listdir('inputs') if f.endswith(('.png', '.jpg', '.jpeg'))])\n",
        "all_output_files = sorted(os.listdir('outputs'))\n",
        "output_files = sorted([f for f in all_output_files if f.endswith('.png')])\n",
        "\n",
        "print(f'📊 找到 {len(input_files)} 张原图')\n",
        "print(f'📊 outputs 文件夹中有 {len(all_output_files)} 个文件')\n",
        "print(f'📊 其中 {len(output_files)} 个是 PNG 图片\\n')\n",
        "\n",
        "# 如果没有输出文件，显示警告\n",
        "if len(output_files) == 0:\n",
        "    print('❌ 错误: outputs 文件夹中没有找到结果图片！')\n",
        "    print('可能的原因:')\n",
        "    print('  1. 步骤6的推理过程出错了')\n",
        "    print('  2. 请检查步骤6是否有红色错误信息')\n",
        "    print('  3. 确认已经正确安装了 PyTorch 1.7.1')\n",
        "    print('\\n💡 建议: 重新运行步骤6，仔细查看输出信息')\n",
        "else:\n",
        "    print('📋 输出文件:')\n",
        "    for f in output_files[:5]:  # 只显示前5个\n",
        "        print(f'   {f}')\n",
        "    if len(output_files) > 5:\n",
        "        print(f'   ... 还有 {len(output_files)-5} 个文件')\n",
        "    print()\n",
        "\n",
        "    # 显示每组对比\n",
        "    success_count = 0\n",
        "    for idx, inp_file in enumerate(input_files, 1):\n",
        "        # 尝试多种文件名匹配方式\n",
        "        base_name = os.path.splitext(inp_file)[0]\n",
        "        possible_names = [\n",
        "            inp_file.replace('.jpg', '.png').replace('.jpeg', '.png'),  # 直接替换扩展名\n",
        "            base_name + '.png',  # 基础名 + .png\n",
        "            base_name + '_vis.png',  # 有些版本会添加 _vis 后缀\n",
        "        ]\n",
        "\n",
        "        out_file = None\n",
        "        for possible in possible_names:\n",
        "            if possible in output_files:\n",
        "                out_file = possible\n",
        "                break\n",
        "\n",
        "        if out_file is None:\n",
        "            print(f'⚠️  未找到 {inp_file} 的输出结果')\n",
        "            print(f'    尝试过的文件名: {possible_names}')\n",
        "            continue\n",
        "\n",
        "        # 创建子图\n",
        "        fig, axes = plt.subplots(1, 2, figsize=(14, 7))\n",
        "        fig.suptitle(f'图片 {idx}/{len(input_files)}: {inp_file}', fontsize=14, fontweight='bold')\n",
        "\n",
        "        # 显示原图\n",
        "        img_input = Image.open(f'inputs/{inp_file}')\n",
        "        axes[0].imshow(img_input)\n",
        "        axes[0].set_title('原图', fontsize=12)\n",
        "        axes[0].axis('off')\n",
        "\n",
        "        # 显示解析结果\n",
        "        img_output = Image.open(f'outputs/{out_file}')\n",
        "        axes[1].imshow(img_output)\n",
        "        axes[1].set_title(f'人体解析结果 ({dataset.upper()})', fontsize=12)\n",
        "        axes[1].axis('off')\n",
        "\n",
        "        plt.tight_layout()\n",
        "        plt.show()\n",
        "        print(f'  ✅ {inp_file} → {out_file}')\n",
        "        print(f'  尺寸: {img_input.size[0]}x{img_input.size[1]} 像素')\n",
        "        print()\n",
        "        success_count += 1\n",
        "\n",
        "    print(f'✅ 成功显示 {success_count}/{len(input_files)} 组结果！')\n"
      ]
    },
    {
      "cell_type": "code",
      "execution_count": 8,
      "metadata": {
        "colab": {
          "base_uri": "https://localhost:8080/",
          "height": 178
        },
        "id": "BLdftKajR8jJ",
        "outputId": "42409eb8-19cf-4335-e281-5dfa58fcd7fc"
      },
      "outputs": [
        {
          "output_type": "stream",
          "name": "stdout",
          "text": [
            "📦 打包并下载处理结果...\n",
            "\n",
            "📊 压缩包信息:\n",
            "   文件名: human_parsing_results_lip.zip\n",
            "   大小: 0.00 MB\n",
            "   包含文件: 0 张图片\n",
            "\n",
            "🔽 开始下载...\n"
          ]
        },
        {
          "output_type": "display_data",
          "data": {
            "text/plain": [
              "<IPython.core.display.Javascript object>"
            ],
            "application/javascript": [
              "\n",
              "    async function download(id, filename, size) {\n",
              "      if (!google.colab.kernel.accessAllowed) {\n",
              "        return;\n",
              "      }\n",
              "      const div = document.createElement('div');\n",
              "      const label = document.createElement('label');\n",
              "      label.textContent = `Downloading \"${filename}\": `;\n",
              "      div.appendChild(label);\n",
              "      const progress = document.createElement('progress');\n",
              "      progress.max = size;\n",
              "      div.appendChild(progress);\n",
              "      document.body.appendChild(div);\n",
              "\n",
              "      const buffers = [];\n",
              "      let downloaded = 0;\n",
              "\n",
              "      const channel = await google.colab.kernel.comms.open(id);\n",
              "      // Send a message to notify the kernel that we're ready.\n",
              "      channel.send({})\n",
              "\n",
              "      for await (const message of channel.messages) {\n",
              "        // Send a message to notify the kernel that we're ready.\n",
              "        channel.send({})\n",
              "        if (message.buffers) {\n",
              "          for (const buffer of message.buffers) {\n",
              "            buffers.push(buffer);\n",
              "            downloaded += buffer.byteLength;\n",
              "            progress.value = downloaded;\n",
              "          }\n",
              "        }\n",
              "      }\n",
              "      const blob = new Blob(buffers, {type: 'application/binary'});\n",
              "      const a = document.createElement('a');\n",
              "      a.href = window.URL.createObjectURL(blob);\n",
              "      a.download = filename;\n",
              "      div.appendChild(a);\n",
              "      a.click();\n",
              "      div.remove();\n",
              "    }\n",
              "  "
            ]
          },
          "metadata": {}
        },
        {
          "output_type": "display_data",
          "data": {
            "text/plain": [
              "<IPython.core.display.Javascript object>"
            ],
            "application/javascript": [
              "download(\"download_77a2b73d-de1b-4bfc-ba31-d4c7b776ced4\", \"human_parsing_results_lip.zip\", 22)"
            ]
          },
          "metadata": {}
        },
        {
          "output_type": "stream",
          "name": "stdout",
          "text": [
            "✅ 下载完成！\n"
          ]
        }
      ],
      "source": [
        "# ========== 步骤 8: 下载结果（可选） ==========\n",
        "print('📦 打包并下载处理结果...\\n')\n",
        "\n",
        "import shutil\n",
        "from google.colab import files\n",
        "import os\n",
        "\n",
        "# 打包 outputs 文件夹\n",
        "archive_name = f'human_parsing_results_{dataset}'\n",
        "shutil.make_archive(archive_name, 'zip', 'outputs')\n",
        "\n",
        "# 显示文件信息\n",
        "zip_size = os.path.getsize(f'{archive_name}.zip') / (1024 * 1024)  # MB\n",
        "file_count = len([f for f in os.listdir('outputs') if f.endswith('.png')])\n",
        "\n",
        "print(f'📊 压缩包信息:')\n",
        "print(f'   文件名: {archive_name}.zip')\n",
        "print(f'   大小: {zip_size:.2f} MB')\n",
        "print(f'   包含文件: {file_count} 张图片')\n",
        "print(f'\\n🔽 开始下载...')\n",
        "\n",
        "# 下载\n",
        "files.download(f'{archive_name}.zip')\n",
        "\n",
        "print('✅ 下载完成！')\n"
      ]
    },
    {
      "cell_type": "markdown",
      "metadata": {
        "id": "-4V7W0vPR8jJ"
      },
      "source": [
        "---\n",
        "\n",
        "## 📚 数据集详细说明\n",
        "\n",
        "### 🎯 LIP (Look Into Person)\n",
        "- **标签数**: 20个\n",
        "- **准确率**: mIoU 59.36%\n",
        "- **数据量**: 50,000+ 图片\n",
        "- **标签列表**:\n",
        "  - Background（背景）\n",
        "  - Hat（帽子）, Hair（头发）, Glove（手套）, Sunglasses（太阳镜）\n",
        "  - Upper-clothes（上衣）, Dress（连衣裙）, Coat（外套）, Pants（裤子）\n",
        "  - Socks（袜子）, Jumpsuits（连体衣）, Scarf（围巾）, Skirt（裙子）\n",
        "  - Face（脸）\n",
        "  - Left-arm（左臂）, Right-arm（右臂）\n",
        "  - Left-leg（左腿）, Right-leg（右腿）\n",
        "  - Left-shoe（左鞋）, Right-shoe（右鞋）\n",
        "\n",
        "### 👔 ATR (A person re-identification dataset)\n",
        "- **标签数**: 18个\n",
        "- **准确率**: mIoU 82.29%\n",
        "- **数据量**: 17,000+ 图片\n",
        "- **适用场景**: 时尚AI、服装识别\n",
        "- **标签列表**:\n",
        "  - Background（背景）\n",
        "  - Hat（帽子）, Hair（头发）, Sunglasses（太阳镜）\n",
        "  - Upper-clothes（上衣）, Skirt（裙子）, Pants（裤子）, Dress（连衣裙）\n",
        "  - Belt（腰带）, Bag（包）, Scarf（围巾）\n",
        "  - Left-shoe（左鞋）, Right-shoe（右鞋）\n",
        "  - Face（脸）\n",
        "  - Left-leg（左腿）, Right-leg（右腿）\n",
        "  - Left-arm（左臂）, Right-arm（右臂）\n",
        "\n",
        "### 🏃 Pascal-Person-Part\n",
        "- **标签数**: 7个\n",
        "- **准确率**: mIoU 71.46%\n",
        "- **数据量**: 3,000+ 图片\n",
        "- **适用场景**: 身体部位分割（简化版）\n",
        "- **标签列表**:\n",
        "  - Background（背景）\n",
        "  - Head（头部）\n",
        "  - Torso（躯干）\n",
        "  - Upper Arms（上臂）\n",
        "  - Lower Arms（下臂）\n",
        "  - Upper Legs（大腿）\n",
        "  - Lower Legs（小腿）\n",
        "\n",
        "---\n",
        "\n",
        "## 💡 常见问题\n",
        "\n",
        "### Q: 为什么要用 PyTorch 1.7.1？\n",
        "**A**: 代码使用了旧版 API，新版 PyTorch (2.0+) 会报编译错误。1.7.1 完全兼容。\n",
        "\n",
        "### Q: 可以处理视频吗？\n",
        "**A**: 可以！先把视频拆成帧，批量处理后再合成视频。\n",
        "\n",
        "### Q: 报错 \"CUDA out of memory\"？\n",
        "**A**: 图片太大。解决方法：\n",
        "- 降低图片分辨率\n",
        "- 减少批处理数量\n",
        "- 或升级到更大的 GPU\n",
        "\n",
        "### Q: 结果不准确怎么办？\n",
        "**A**: 尝试：\n",
        "- 换其他数据集（如 ATR 对时尚服装更准）\n",
        "- 确保人物占图片主要部分\n",
        "- 避免过度遮挡\n",
        "\n",
        "---\n",
        "\n",
        "## 🎉 完成！\n",
        "\n",
        "如有问题，请访问：\n",
        "- 项目地址: https://github.com/likunpeng0127/salf\n",
        "- 原始论文: [Self-Correction for Human Parsing](https://arxiv.org/abs/1910.09777)\n"
      ]
    }
  ],
  "metadata": {
    "accelerator": "GPU",
    "colab": {
      "gpuType": "T4",
      "provenance": []
    },
    "kernelspec": {
      "display_name": "Python 3",
      "name": "python3"
    },
    "language_info": {
      "name": "python"
    }
  },
  "nbformat": 4,
  "nbformat_minor": 0
}